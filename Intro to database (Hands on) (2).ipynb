{
 "cells": [
  {
   "cell_type": "markdown",
   "id": "2b6dd2f3",
   "metadata": {
    "id": "2b6dd2f3"
   },
   "source": [
    "##  <font color='blue'> Table Of Contents </font>\n",
    "- MySQL with Python\n",
    "  - Connect to DB using mysql-connector-python package\n",
    "  - Create database and tables\n",
    "  - Perform DDL and DML Operations\n",
    "    - Create\n",
    "    - Alter\n",
    "    - Insert\n",
    "    - Select\n",
    "    - Update\n",
    "    - Delete\n",
    "    - Drop\n",
    "  - Open and run the file hr-schema-mysql.sql in MySQL Workbench\n",
    "  - Implementation of clauses, conditions, aggregate functions and joins on hr schema\n",
    "    - Groupby, Having, and Order by Clauses\n",
    "    - OR, AND, NOT conditions\n",
    "    - AVG, MIN, MAX, SUM, COUNT functions\n",
    "    - Left joins and Right join"
   ]
  },
  {
   "cell_type": "markdown",
   "id": "8b6c6538",
   "metadata": {
    "id": "8b6c6538"
   },
   "source": [
    "##  <font color='blue'> Introduction </font>\n",
    "\n",
    "In this session we will be working on a small project. While working on this project we will cover the following items\n",
    "\n",
    "1. Use **mysql-connector-python** to connect to a DB\n",
    "2. Learn about the functionality of mysql-connector-python\n",
    "3. Create a new database and create tables and perform DDL and DML operations\n",
    "4. Open and run the file **hr-schema-mysql.sql** in MySQL Workbench and Implementation of clauses, conditions, aggregate functions and joins on hr schema"
   ]
  },
  {
   "cell_type": "markdown",
   "id": "6ede1e6c",
   "metadata": {
    "id": "6ede1e6c"
   },
   "source": [
    "##  <font color='blue'> Required Installation </font>\n",
    "\n",
    "Also ensure that you have installed the package mysql-connector-python as well.\n",
    "Python, in itself provides no libraries to connect with DB(s). So in order to connect with MySQL server, you have to install this package on the machine where you will write the codes"
   ]
  },
  {
   "cell_type": "markdown",
   "id": "d1891c59",
   "metadata": {
    "id": "d1891c59"
   },
   "source": [
    "##  <font color='blue'> Mysql with Python</font>\n",
    "Now we will see as how we can connect with the database and perform various operations of Mysql with Python"
   ]
  },
  {
   "cell_type": "code",
   "execution_count": 1,
   "id": "971da4ce",
   "metadata": {
    "id": "971da4ce"
   },
   "outputs": [],
   "source": [
    "#pip install mysql-connector-python"
   ]
  },
  {
   "cell_type": "code",
   "execution_count": 2,
   "id": "32fe671f",
   "metadata": {
    "id": "32fe671f"
   },
   "outputs": [],
   "source": [
    "## Load required libraies\n",
    "import mysql.connector\n",
    "import pandas as pd"
   ]
  },
  {
   "cell_type": "markdown",
   "id": "8bb8eecf",
   "metadata": {
    "id": "8bb8eecf"
   },
   "source": [
    "##  <font color='blue'> 1. Connect to Database</font>"
   ]
  },
  {
   "cell_type": "code",
   "execution_count": 3,
   "id": "2574b7ae",
   "metadata": {
    "id": "2574b7ae",
    "outputId": "c30c016f-2dee-41d9-ab92-477c4407f997"
   },
   "outputs": [
    {
     "name": "stdout",
     "output_type": "stream",
     "text": [
      "<mysql.connector.connection_cext.CMySQLConnection object at 0x00000214EA910D30>\n"
     ]
    }
   ],
   "source": [
    "## Code for connecting to Mysql server and closing the connection\n",
    "import mysql.connector\n",
    "  \n",
    "connection = mysql.connector.connect(host =\"localhost\",\n",
    "                                    user =\"root\",\n",
    "                                    passwd =\"Root\")\n",
    " \n",
    "print(connection)\n",
    "  \n",
    "## closing the connection\n",
    "connection.close()"
   ]
  },
  {
   "cell_type": "markdown",
   "id": "2e694c0c",
   "metadata": {
    "id": "2e694c0c"
   },
   "source": [
    "First statement is we import ```mysql.connector```.  \n",
    "Use the method ***mysql.connector.connect()*** to connect to DB.  \n",
    "\n",
    "Following is an explanation of the parameters we pass to this function... \n",
    "- ***host*** - IP address MySQL server on which the DB is hosted.   \n",
    "- ***user*** - user who has access to this database,   \n",
    "- ***password*** - password of the user  \n",
    "<div class=\"alert alert-block alert-info\">\n",
    "    For more details refer - <a href=\"https://dev.mysql.com/doc/connector-python/en/connector-python-connectargs.html\">Connection Parameters </a>\n",
    "</div>\n",
    "\n",
    "**NOTE:** Always close an open connection once you are done with the database operations"
   ]
  },
  {
   "cell_type": "markdown",
   "id": "e1eb2b85",
   "metadata": {
    "id": "e1eb2b85"
   },
   "source": [
    "##  <font color='blue'> 2. Create Database</font>\n",
    "\n",
    "- After connecting to the MySQL server, We will create a MYSQL database using Python.\n",
    "- We will first create a **cursor()** object and then pass the SQL query as a string to the **execute()** method."
   ]
  },
  {
   "cell_type": "code",
   "execution_count": 4,
   "id": "a693ae46",
   "metadata": {
    "id": "a693ae46"
   },
   "outputs": [],
   "source": [
    "## Lets make a connection to Mysql server and perform some operations\n",
    "connection = mysql.connector.connect(host =\"localhost\",\n",
    "                                     user =\"root\",\n",
    "                                     passwd =\"Root\")\n",
    " \n",
    "## creating a cursor object\n",
    "cursorObject = connection.cursor()\n",
    " \n",
    "## creating database\n",
    "cursorObject.execute(\"CREATE DATABASE Orders\")\n",
    "\n",
    "## closing the connection after creating a database('Orders')\n",
    "connection.close()"
   ]
  },
  {
   "cell_type": "markdown",
   "id": "4e321cfb",
   "metadata": {
    "id": "4e321cfb"
   },
   "source": [
    "**.cursor()** : Return a new Cursor Object using the connection. This is used to do operations on MySQL server\n",
    "\n",
    "**.execute(operation, params=None)**\n",
    "- Prepare and execute a database operation (query or command).\n",
    "- Parameters may be provided as sequence or mapping and will be bound to variables in the operation.\n",
    "- While executing an insert statement it converts Python data type to MySQL data type."
   ]
  },
  {
   "cell_type": "markdown",
   "id": "f2345fe1",
   "metadata": {
    "id": "f2345fe1"
   },
   "source": [
    "###  <font color='blue'> 2.1 Create Table</font>\n",
    "\n",
    "- We will follow the similar approach of writing the SQL querys as strings and then passing it to the execute() method of the cursor object. "
   ]
  },
  {
   "cell_type": "code",
   "execution_count": 5,
   "id": "5e48dc58",
   "metadata": {
    "id": "5e48dc58"
   },
   "outputs": [],
   "source": [
    "## Connect to Mysql server and choose the database('Orders') while connecting to the server\n",
    "connection = mysql.connector.connect(host =\"localhost\",\n",
    "                                     user =\"root\",\n",
    "                                     passwd =\"Root\",\n",
    "                                     database = \"Orders\")\n",
    "\n",
    "# creating a cursor object\n",
    "cursorObject = connection.cursor()\n",
    "\n",
    "# creating table\n",
    "Customers =     \"\"\"CREATE TABLE Customers (\n",
    "                   CUSTOMER_NAME  VARCHAR(20) NOT NULL,\n",
    "                   CUSTOMER_ID INT NOT NULL,\n",
    "                   AGE INT,\n",
    "                   PHNO INT,\n",
    "                   ORDER_ID INT NOT NULL\n",
    "                   )\"\"\"\n",
    "  \n",
    "# table created\n",
    "cursorObject.execute(Customers)"
   ]
  },
  {
   "cell_type": "markdown",
   "id": "b54a2290",
   "metadata": {
    "id": "b54a2290"
   },
   "source": [
    "##  <font color='blue'> 3. DDL and DML Operations</font>\n",
    "###  <font color='blue'> 3.1 Alter</font>"
   ]
  },
  {
   "cell_type": "code",
   "execution_count": 6,
   "id": "b14cd768",
   "metadata": {
    "id": "b14cd768"
   },
   "outputs": [],
   "source": [
    "alter_query = \"ALTER table Customers rename to Customer_details;\"\n",
    "cursorObject.execute(alter_query)"
   ]
  },
  {
   "cell_type": "markdown",
   "id": "149f6a49",
   "metadata": {
    "id": "149f6a49"
   },
   "source": [
    "###  <font color='blue'> 3.2 Insert</font>"
   ]
  },
  {
   "cell_type": "code",
   "execution_count": 7,
   "id": "082b3fd8",
   "metadata": {
    "id": "082b3fd8"
   },
   "outputs": [],
   "source": [
    "## Inserting single row of values\n",
    "\n",
    "insert_query = \"INSERT INTO Customer_details (CUSTOMER_NAME, CUSTOMER_ID, AGE, PHNO, ORDER_ID) VALUES (%s, %s, %s, %s, %s)\"\n",
    "val = (\"Billy\", 1001, 45, 18055, 60709)\n",
    "   \n",
    "cursorObject.execute(insert_query, val)\n",
    "connection.commit()"
   ]
  },
  {
   "cell_type": "markdown",
   "id": "ca3ce2ca",
   "metadata": {
    "id": "ca3ce2ca"
   },
   "source": [
    "**.commit()**\n",
    "This method sends a COMMIT statement to the MySQL server, committing the current transaction. Since by default Connector/Python does not auto-commit, it is important to call this method after every transaction that modifies data for tables."
   ]
  },
  {
   "cell_type": "code",
   "execution_count": 8,
   "id": "c40072b7",
   "metadata": {
    "id": "c40072b7"
   },
   "outputs": [],
   "source": [
    "## Inserting multiple rows of values\n",
    "\n",
    "insert_query = \"INSERT INTO Customer_details (CUSTOMER_NAME, CUSTOMER_ID, AGE, PHNO, ORDER_ID) VALUES (%s, %s, %s, %s, %s)\"\n",
    "val = [(\"Johnny\", 1008, 30, 18065, 60809),\n",
    "       (\"Tommy\",  1006, 35, 18007, 60777),\n",
    "       (\"James\",  1004, 42, 18099, 60989),\n",
    "       (\"Darcy\",  1005, 38, 18003, 60111),\n",
    "       (\"Samson\", 1002, 44, 18012, 60121),\n",
    "       (\"Xerxes\", 1003, 33, 18066, 60345),\n",
    "       (\"Ceaser\", 1007, 41, 18099, 60999)]\n",
    "   \n",
    "cursorObject.executemany(insert_query, val)\n",
    "connection.commit()"
   ]
  },
  {
   "cell_type": "markdown",
   "id": "31250195",
   "metadata": {
    "id": "31250195"
   },
   "source": [
    "###  <font color='blue'> 3.3 Select</font>\n",
    "Fetching data from the database table and returning in python"
   ]
  },
  {
   "cell_type": "code",
   "execution_count": 9,
   "id": "53f06aa9",
   "metadata": {
    "id": "53f06aa9",
    "outputId": "f255e930-3e62-45ee-c566-6c8de0eb1c54"
   },
   "outputs": [
    {
     "name": "stdout",
     "output_type": "stream",
     "text": [
      "('Billy', 1001, 45, 18055, 60709)\n",
      "('Johnny', 1008, 30, 18065, 60809)\n",
      "('Tommy', 1006, 35, 18007, 60777)\n",
      "('James', 1004, 42, 18099, 60989)\n",
      "('Darcy', 1005, 38, 18003, 60111)\n",
      "('Samson', 1002, 44, 18012, 60121)\n",
      "('Xerxes', 1003, 33, 18066, 60345)\n",
      "('Ceaser', 1007, 41, 18099, 60999)\n"
     ]
    }
   ],
   "source": [
    "select_query = \"SELECT * FROM Customer_details\"\n",
    "cursorObject.execute(select_query)\n",
    "   \n",
    "output = cursorObject.fetchall()\n",
    "   \n",
    "for x in output:\n",
    "    print(x)"
   ]
  },
  {
   "cell_type": "markdown",
   "id": "5d34443b",
   "metadata": {
    "id": "5d34443b"
   },
   "source": [
    "#### We can also put the output of the query into pandas dataframe and view the data"
   ]
  },
  {
   "cell_type": "code",
   "execution_count": 10,
   "id": "ea223ad5",
   "metadata": {
    "id": "ea223ad5",
    "outputId": "4e7fd86c-08a9-49c2-804f-1e3cc47709d9"
   },
   "outputs": [
    {
     "data": {
      "text/html": [
       "<div>\n",
       "<style scoped>\n",
       "    .dataframe tbody tr th:only-of-type {\n",
       "        vertical-align: middle;\n",
       "    }\n",
       "\n",
       "    .dataframe tbody tr th {\n",
       "        vertical-align: top;\n",
       "    }\n",
       "\n",
       "    .dataframe thead th {\n",
       "        text-align: right;\n",
       "    }\n",
       "</style>\n",
       "<table border=\"1\" class=\"dataframe\">\n",
       "  <thead>\n",
       "    <tr style=\"text-align: right;\">\n",
       "      <th></th>\n",
       "      <th>CUSTOMER_NAME</th>\n",
       "      <th>CUSTOMER_ID</th>\n",
       "      <th>AGE</th>\n",
       "      <th>PHNO</th>\n",
       "      <th>ORDER_ID</th>\n",
       "    </tr>\n",
       "  </thead>\n",
       "  <tbody>\n",
       "    <tr>\n",
       "      <th>0</th>\n",
       "      <td>Billy</td>\n",
       "      <td>1001</td>\n",
       "      <td>45</td>\n",
       "      <td>18055</td>\n",
       "      <td>60709</td>\n",
       "    </tr>\n",
       "    <tr>\n",
       "      <th>1</th>\n",
       "      <td>Johnny</td>\n",
       "      <td>1008</td>\n",
       "      <td>30</td>\n",
       "      <td>18065</td>\n",
       "      <td>60809</td>\n",
       "    </tr>\n",
       "    <tr>\n",
       "      <th>2</th>\n",
       "      <td>Tommy</td>\n",
       "      <td>1006</td>\n",
       "      <td>35</td>\n",
       "      <td>18007</td>\n",
       "      <td>60777</td>\n",
       "    </tr>\n",
       "    <tr>\n",
       "      <th>3</th>\n",
       "      <td>James</td>\n",
       "      <td>1004</td>\n",
       "      <td>42</td>\n",
       "      <td>18099</td>\n",
       "      <td>60989</td>\n",
       "    </tr>\n",
       "    <tr>\n",
       "      <th>4</th>\n",
       "      <td>Darcy</td>\n",
       "      <td>1005</td>\n",
       "      <td>38</td>\n",
       "      <td>18003</td>\n",
       "      <td>60111</td>\n",
       "    </tr>\n",
       "    <tr>\n",
       "      <th>5</th>\n",
       "      <td>Samson</td>\n",
       "      <td>1002</td>\n",
       "      <td>44</td>\n",
       "      <td>18012</td>\n",
       "      <td>60121</td>\n",
       "    </tr>\n",
       "    <tr>\n",
       "      <th>6</th>\n",
       "      <td>Xerxes</td>\n",
       "      <td>1003</td>\n",
       "      <td>33</td>\n",
       "      <td>18066</td>\n",
       "      <td>60345</td>\n",
       "    </tr>\n",
       "    <tr>\n",
       "      <th>7</th>\n",
       "      <td>Ceaser</td>\n",
       "      <td>1007</td>\n",
       "      <td>41</td>\n",
       "      <td>18099</td>\n",
       "      <td>60999</td>\n",
       "    </tr>\n",
       "  </tbody>\n",
       "</table>\n",
       "</div>"
      ],
      "text/plain": [
       "  CUSTOMER_NAME  CUSTOMER_ID  AGE   PHNO  ORDER_ID\n",
       "0         Billy         1001   45  18055     60709\n",
       "1        Johnny         1008   30  18065     60809\n",
       "2         Tommy         1006   35  18007     60777\n",
       "3         James         1004   42  18099     60989\n",
       "4         Darcy         1005   38  18003     60111\n",
       "5        Samson         1002   44  18012     60121\n",
       "6        Xerxes         1003   33  18066     60345\n",
       "7        Ceaser         1007   41  18099     60999"
      ]
     },
     "execution_count": 10,
     "metadata": {},
     "output_type": "execute_result"
    }
   ],
   "source": [
    "output_df = pd.DataFrame(output, columns=['CUSTOMER_NAME', 'CUSTOMER_ID', 'AGE', 'PHNO', 'ORDER_ID'])\n",
    "output_df"
   ]
  },
  {
   "cell_type": "markdown",
   "id": "63ac276a",
   "metadata": {
    "id": "63ac276a"
   },
   "source": [
    "###  <font color='blue'> 3.4 Update</font>"
   ]
  },
  {
   "cell_type": "code",
   "execution_count": 11,
   "id": "d34a0d4f",
   "metadata": {
    "id": "d34a0d4f"
   },
   "outputs": [],
   "source": [
    "update_query = \"UPDATE Customer_details SET AGE = 25 WHERE CUSTOMER_NAME ='Billy'\"\n",
    "cursorObject.execute(update_query)\n",
    "connection.commit()"
   ]
  },
  {
   "cell_type": "code",
   "execution_count": 12,
   "id": "448b3140",
   "metadata": {
    "id": "448b3140",
    "outputId": "df629abe-b2f9-4c39-aee7-4699d5d166a0"
   },
   "outputs": [
    {
     "name": "stdout",
     "output_type": "stream",
     "text": [
      "('Billy', 1001, 25, 18055, 60709)\n"
     ]
    }
   ],
   "source": [
    "## Lets check if the data is updated or not\n",
    "\n",
    "select_query = \"SELECT * FROM Customer_details WHERE CUSTOMER_NAME='Billy'\"\n",
    "cursorObject.execute(select_query)\n",
    "   \n",
    "output = cursorObject.fetchall()\n",
    "   \n",
    "for x in output:\n",
    "    print(x)"
   ]
  },
  {
   "cell_type": "markdown",
   "id": "63e80ad0",
   "metadata": {
    "id": "63e80ad0"
   },
   "source": [
    "###  <font color='blue'> 3.5 Delete</font>"
   ]
  },
  {
   "cell_type": "code",
   "execution_count": 13,
   "id": "0a5ace61",
   "metadata": {
    "id": "0a5ace61"
   },
   "outputs": [],
   "source": [
    "delete_query = \"DELETE FROM Customer_details WHERE CUSTOMER_NAME ='Billy'\"\n",
    "cursorObject.execute(delete_query)\n",
    "connection.commit()"
   ]
  },
  {
   "cell_type": "code",
   "execution_count": 14,
   "id": "e3df9e33",
   "metadata": {
    "id": "e3df9e33",
    "outputId": "6c954218-c07a-4d1d-8f4d-4cc7bef31a83"
   },
   "outputs": [
    {
     "name": "stdout",
     "output_type": "stream",
     "text": [
      "('Johnny', 1008, 30, 18065, 60809)\n",
      "('Tommy', 1006, 35, 18007, 60777)\n",
      "('James', 1004, 42, 18099, 60989)\n",
      "('Darcy', 1005, 38, 18003, 60111)\n",
      "('Samson', 1002, 44, 18012, 60121)\n",
      "('Xerxes', 1003, 33, 18066, 60345)\n",
      "('Ceaser', 1007, 41, 18099, 60999)\n"
     ]
    }
   ],
   "source": [
    "## Lets check if the data is deleted or not\n",
    "\n",
    "select_query = \"SELECT * FROM Customer_details\"\n",
    "cursorObject.execute(select_query)\n",
    "   \n",
    "output = cursorObject.fetchall()\n",
    "   \n",
    "for x in output:\n",
    "    print(x)"
   ]
  },
  {
   "cell_type": "markdown",
   "id": "8d8c07d5",
   "metadata": {
    "id": "8d8c07d5"
   },
   "source": [
    "###  <font color='blue'> 3.6 Drop</font>"
   ]
  },
  {
   "cell_type": "code",
   "execution_count": 15,
   "id": "d8e13f7f",
   "metadata": {
    "id": "d8e13f7f"
   },
   "outputs": [],
   "source": [
    "update_query = \"DROP TABLE Customer_details\"\n",
    "cursorObject.execute(update_query)\n",
    "connection.commit()"
   ]
  },
  {
   "cell_type": "code",
   "execution_count": 16,
   "id": "bf423108",
   "metadata": {
    "id": "bf423108"
   },
   "outputs": [],
   "source": [
    "# closing the connection after performing database operations on database \"Orders\"\n",
    "connection.close()"
   ]
  },
  {
   "cell_type": "markdown",
   "id": "dd26906d",
   "metadata": {
    "id": "dd26906d"
   },
   "source": [
    "## <font color='blue'>4. Open and run the file hr-schema-mysql.sql in MySQL Workbench</font>"
   ]
  },
  {
   "cell_type": "markdown",
   "id": "981a78cf",
   "metadata": {
    "id": "981a78cf"
   },
   "source": [
    "Open and run the file ```hr-schema-mysql.sql``` in MySQL Workbench   \n",
    "\n",
    "<div class=\"alert alert-block alert-info\">\n",
    "    Assuming user has installed MySQLWorkbench application before running the .sql file\n",
    "</div>\n",
    "\n",
    "After successfully executing the .sql file in MySQL Workbench, this will create a DB ```hr``` with the required tables and sample data. We will use this to implement the Query & Clauses, Conditions, Aggregate Functions and joins"
   ]
  },
  {
   "attachments": {
    "HR_Schema.png": {
     "image/png": "[encoded data removed]"
    }
   },
   "cell_type": "markdown",
   "id": "cb7c853b",
   "metadata": {},
   "source": [
    "![HR_Schema.png](attachment:HR_Schema.png)"
   ]
  },
  {
   "cell_type": "markdown",
   "id": "60e4ea5b",
   "metadata": {
    "id": "60e4ea5b"
   },
   "source": [
    "### <font color='blue'>4.1 Clauses</font>\n",
    "### <font color='blue'>4.1.1 Group by</font>"
   ]
  },
  {
   "cell_type": "code",
   "execution_count": 18,
   "id": "b9b62611",
   "metadata": {
    "id": "b9b62611",
    "outputId": "6398c421-cfb8-4467-b814-2a3464120d52"
   },
   "outputs": [
    {
     "name": "stdout",
     "output_type": "stream",
     "text": [
      "('AC_ACCOUNT', 1)\n",
      "('AC_MGR', 1)\n",
      "('AD_ASST', 1)\n",
      "('AD_PRES', 1)\n",
      "('AD_VP', 2)\n",
      "('FI_ACCOUNT', 5)\n",
      "('FI_MGR', 1)\n",
      "('HR_REP', 1)\n",
      "('IT_PROG', 5)\n",
      "('MK_MAN', 1)\n",
      "('MK_REP', 1)\n",
      "('PR_REP', 1)\n",
      "('PU_CLERK', 5)\n",
      "('PU_MAN', 1)\n",
      "('SA_MAN', 5)\n",
      "('SA_REP', 30)\n",
      "('SH_CLERK', 20)\n",
      "('ST_CLERK', 20)\n",
      "('ST_MAN', 5)\n"
     ]
    }
   ],
   "source": [
    "## Lets connect to Mysql server and will choose the database(hr) while making a connection to server\n",
    "connection = mysql.connector.connect(host =\"localhost\",\n",
    "                                     user =\"root\",\n",
    "                                     passwd =\"Root\",\n",
    "                                     database = \"hr\")\n",
    "\n",
    "# creating a cursor object\n",
    "cursorObject = connection.cursor()\n",
    "  \n",
    "groupby_query = \"SELECT job_id, COUNT(*) as 'total' FROM employees GROUP BY job_id\"\n",
    "cursorObject.execute(groupby_query)\n",
    " \n",
    "output = cursorObject.fetchall()\n",
    "   \n",
    "for x in output:\n",
    "    print(x)"
   ]
  },
  {
   "cell_type": "markdown",
   "id": "9e30f48f",
   "metadata": {
    "id": "9e30f48f"
   },
   "source": [
    "### <font color='blue'>4.1.2 Having</font>"
   ]
  },
  {
   "cell_type": "code",
   "execution_count": 19,
   "id": "34501830",
   "metadata": {
    "id": "34501830",
    "outputId": "ca712273-252e-4a4b-9ad7-3036800a2d86"
   },
   "outputs": [
    {
     "name": "stdout",
     "output_type": "stream",
     "text": [
      "('FI_ACCOUNT', 5)\n",
      "('IT_PROG', 5)\n",
      "('PU_CLERK', 5)\n",
      "('SA_MAN', 5)\n",
      "('SA_REP', 30)\n",
      "('SH_CLERK', 20)\n",
      "('ST_CLERK', 20)\n",
      "('ST_MAN', 5)\n"
     ]
    }
   ],
   "source": [
    "having_query = \"SELECT job_id, COUNT(*) as 'total' FROM employees GROUP BY job_id having COUNT(*)>4\"\n",
    "cursorObject.execute(having_query)\n",
    " \n",
    "output = cursorObject.fetchall()\n",
    "   \n",
    "for x in output:\n",
    "    print(x)"
   ]
  },
  {
   "cell_type": "markdown",
   "id": "644eec6b",
   "metadata": {
    "id": "644eec6b"
   },
   "source": [
    "### <font color='blue'>4.1.3 Order by</font>"
   ]
  },
  {
   "cell_type": "code",
   "execution_count": 20,
   "id": "305091b1",
   "metadata": {
    "id": "305091b1",
    "outputId": "5c02b0e4-b6d1-491f-cd48-c6c46a5cff08"
   },
   "outputs": [
    {
     "name": "stdout",
     "output_type": "stream",
     "text": [
      "('Adam', 'ST_MAN', Decimal('8200.00'))\n",
      "('Alana', 'SH_CLERK', Decimal('3100.00'))\n",
      "('Alberto', 'SA_MAN', Decimal('12000.00'))\n",
      "('Alexander', 'PU_CLERK', Decimal('3100.00'))\n",
      "('Alexander', 'IT_PROG', Decimal('9000.00'))\n"
     ]
    }
   ],
   "source": [
    "orderby_query = \"SELECT first_name,job_id,salary from employees ORDER BY first_name limit 5\"\n",
    "cursorObject.execute(orderby_query)\n",
    " \n",
    "output = cursorObject.fetchall()\n",
    "   \n",
    "for x in output:\n",
    "    print(x)"
   ]
  },
  {
   "cell_type": "markdown",
   "id": "98d4959c",
   "metadata": {
    "id": "98d4959c"
   },
   "source": [
    "### <font color='blue'>4.2 Conditions</font>\n",
    "### <font color='blue'>4.2.1 AND</font>"
   ]
  },
  {
   "cell_type": "code",
   "execution_count": 21,
   "id": "dea17f41",
   "metadata": {
    "id": "dea17f41",
    "outputId": "3b0e9f8f-acac-463c-ff47-36dc7531443c"
   },
   "outputs": [
    {
     "name": "stdout",
     "output_type": "stream",
     "text": [
      "(102, 'Lex', 'De Haan', 'LDEHAAN', '515.123.4569', datetime.date(1993, 1, 13), 'AD_VP', Decimal('17000.00'), None, 100, 90)\n",
      "(103, 'Alexander', 'Hunold', 'AHUNOLD', '590.423.4567', datetime.date(1990, 1, 3), 'IT_PROG', Decimal('9000.00'), None, 102, 60)\n",
      "(104, 'Bruce', 'Ernst', 'BERNST', '590.423.4568', datetime.date(1991, 5, 21), 'IT_PROG', Decimal('6000.00'), None, 103, 60)\n",
      "(105, 'David', 'Austin', 'DAUSTIN', '590.423.4569', datetime.date(1997, 6, 25), 'IT_PROG', Decimal('4800.00'), None, 103, 60)\n",
      "(106, 'Valli', 'Pataballa', 'VPATABAL', '590.423.4560', datetime.date(1998, 2, 5), 'IT_PROG', Decimal('4800.00'), None, 103, 60)\n",
      "(107, 'Diana', 'Lorentz', 'DLORENTZ', '590.423.5567', datetime.date(1999, 2, 7), 'IT_PROG', Decimal('4200.00'), None, 103, 60)\n",
      "(108, 'Nancy', 'Greenberg', 'NGREENBE', '515.124.4569', datetime.date(1994, 8, 17), 'FI_MGR', Decimal('12000.00'), None, 101, 100)\n",
      "(109, 'Daniel', 'Faviet', 'DFAVIET', '515.124.4169', datetime.date(1994, 8, 16), 'FI_ACCOUNT', Decimal('9000.00'), None, 108, 100)\n"
     ]
    }
   ],
   "source": [
    "and_query = \"SELECT * FROM employees WHERE employee_id > 101 AND employee_id < 110\"\n",
    "cursorObject.execute(and_query)\n",
    " \n",
    "output = cursorObject.fetchall()\n",
    "   \n",
    "for x in output:\n",
    "    print(x)"
   ]
  },
  {
   "cell_type": "markdown",
   "id": "f8d1f0bb",
   "metadata": {
    "id": "f8d1f0bb"
   },
   "source": [
    "### <font color='blue'>4.2.2 OR</font>"
   ]
  },
  {
   "cell_type": "code",
   "execution_count": 22,
   "id": "1bd9486d",
   "metadata": {
    "id": "1bd9486d",
    "outputId": "0a913393-7c9a-433b-cf12-5f9e99370446"
   },
   "outputs": [
    {
     "name": "stdout",
     "output_type": "stream",
     "text": [
      "(101, 'Neena', 'Kochhar', 'NKOCHHAR', '515.123.4568', datetime.date(1989, 9, 21), 'AD_VP', Decimal('17000.00'), None, 100, 90)\n",
      "(110, 'John', 'Chen', 'JCHEN', '515.124.4269', datetime.date(1997, 9, 28), 'FI_ACCOUNT', Decimal('8200.00'), None, 108, 100)\n"
     ]
    }
   ],
   "source": [
    "or_query = \"SELECT * FROM employees WHERE employee_id  = 101 or employee_id = 110\"\n",
    "cursorObject.execute(or_query)\n",
    " \n",
    "output = cursorObject.fetchall()\n",
    "   \n",
    "for x in output:\n",
    "    print(x)"
   ]
  },
  {
   "cell_type": "markdown",
   "id": "6b042a5e",
   "metadata": {
    "id": "6b042a5e"
   },
   "source": [
    "### <font color='blue'>4.2.3 NOT</font>"
   ]
  },
  {
   "cell_type": "code",
   "execution_count": 23,
   "id": "81cfc025",
   "metadata": {
    "id": "81cfc025",
    "outputId": "6a7e62d1-e8cf-46f2-e04e-2849c8ab6907",
    "scrolled": true
   },
   "outputs": [
    {
     "name": "stdout",
     "output_type": "stream",
     "text": [
      "(145, 'John', 'Russell', 'JRUSSEL', '011.44.1344.429268', datetime.date(1996, 10, 1), 'SA_MAN', Decimal('14000.00'), Decimal('0.40'), 100, 80)\n",
      "(146, 'Karen', 'Partners', 'KPARTNER', '011.44.1344.467268', datetime.date(1997, 1, 5), 'SA_MAN', Decimal('13500.00'), Decimal('0.30'), 100, 80)\n",
      "(147, 'Alberto', 'Errazuriz', 'AERRAZUR', '011.44.1344.429278', datetime.date(1997, 3, 10), 'SA_MAN', Decimal('12000.00'), Decimal('0.30'), 100, 80)\n",
      "(148, 'Gerald', 'Cambrault', 'GCAMBRAU', '011.44.1344.619268', datetime.date(1999, 10, 15), 'SA_MAN', Decimal('11000.00'), Decimal('0.30'), 100, 80)\n",
      "(149, 'Eleni', 'Zlotkey', 'EZLOTKEY', '011.44.1344.429018', datetime.date(2000, 1, 29), 'SA_MAN', Decimal('10500.00'), Decimal('0.20'), 100, 80)\n",
      "(150, 'Peter', 'Tucker', 'PTUCKER', '011.44.1344.129268', datetime.date(1997, 1, 30), 'SA_REP', Decimal('10000.00'), Decimal('0.30'), 145, 80)\n",
      "(151, 'David', 'Bernstein', 'DBERNSTE', '011.44.1344.345268', datetime.date(1997, 3, 24), 'SA_REP', Decimal('9500.00'), Decimal('0.25'), 145, 80)\n",
      "(152, 'Peter', 'Hall', 'PHALL', '011.44.1344.478968', datetime.date(1997, 8, 20), 'SA_REP', Decimal('9000.00'), Decimal('0.25'), 145, 80)\n",
      "(153, 'Christopher', 'Olsen', 'COLSEN', '011.44.1344.498718', datetime.date(1998, 3, 30), 'SA_REP', Decimal('8000.00'), Decimal('0.20'), 145, 80)\n",
      "(154, 'Nanette', 'Cambrault', 'NCAMBRAU', '011.44.1344.987668', datetime.date(1998, 12, 9), 'SA_REP', Decimal('7500.00'), Decimal('0.20'), 145, 80)\n",
      "(155, 'Oliver', 'Tuvault', 'OTUVAULT', '011.44.1344.486508', datetime.date(1999, 11, 23), 'SA_REP', Decimal('7000.00'), Decimal('0.15'), 145, 80)\n",
      "(156, 'Janette', 'King', 'JKING', '011.44.1345.429268', datetime.date(1996, 1, 30), 'SA_REP', Decimal('10000.00'), Decimal('0.35'), 146, 80)\n",
      "(157, 'Patrick', 'Sully', 'PSULLY', '011.44.1345.929268', datetime.date(1996, 3, 4), 'SA_REP', Decimal('9500.00'), Decimal('0.35'), 146, 80)\n",
      "(158, 'Allan', 'McEwen', 'AMCEWEN', '011.44.1345.829268', datetime.date(1996, 8, 1), 'SA_REP', Decimal('9000.00'), Decimal('0.35'), 146, 80)\n",
      "(159, 'Lindsey', 'Smith', 'LSMITH', '011.44.1345.729268', datetime.date(1997, 3, 10), 'SA_REP', Decimal('8000.00'), Decimal('0.30'), 146, 80)\n",
      "(160, 'Louise', 'Doran', 'LDORAN', '011.44.1345.629268', datetime.date(1997, 12, 15), 'SA_REP', Decimal('7500.00'), Decimal('0.30'), 146, 80)\n",
      "(161, 'Sarath', 'Sewall', 'SSEWALL', '011.44.1345.529268', datetime.date(1998, 11, 3), 'SA_REP', Decimal('7000.00'), Decimal('0.25'), 146, 80)\n",
      "(162, 'Clara', 'Vishney', 'CVISHNEY', '011.44.1346.129268', datetime.date(1997, 11, 11), 'SA_REP', Decimal('10500.00'), Decimal('0.25'), 147, 80)\n",
      "(163, 'Danielle', 'Greene', 'DGREENE', '011.44.1346.229268', datetime.date(1999, 3, 19), 'SA_REP', Decimal('9500.00'), Decimal('0.15'), 147, 80)\n",
      "(164, 'Mattea', 'Marvins', 'MMARVINS', '011.44.1346.329268', datetime.date(2000, 1, 24), 'SA_REP', Decimal('7200.00'), Decimal('0.10'), 147, 80)\n",
      "(165, 'David', 'Lee', 'DLEE', '011.44.1346.529268', datetime.date(2000, 2, 23), 'SA_REP', Decimal('6800.00'), Decimal('0.10'), 147, 80)\n",
      "(166, 'Sundar', 'Ande', 'SANDE', '011.44.1346.629268', datetime.date(2000, 3, 24), 'SA_REP', Decimal('6400.00'), Decimal('0.10'), 147, 80)\n",
      "(167, 'Amit', 'Banda', 'ABANDA', '011.44.1346.729268', datetime.date(2000, 4, 21), 'SA_REP', Decimal('6200.00'), Decimal('0.10'), 147, 80)\n",
      "(168, 'Lisa', 'Ozer', 'LOZER', '011.44.1343.929268', datetime.date(1997, 3, 11), 'SA_REP', Decimal('11500.00'), Decimal('0.25'), 148, 80)\n",
      "(169, 'Harrison', 'Bloom', 'HBLOOM', '011.44.1343.829268', datetime.date(1998, 3, 23), 'SA_REP', Decimal('10000.00'), Decimal('0.20'), 148, 80)\n",
      "(170, 'Tayler', 'Fox', 'TFOX', '011.44.1343.729268', datetime.date(1998, 1, 24), 'SA_REP', Decimal('9600.00'), Decimal('0.20'), 148, 80)\n",
      "(171, 'William', 'Smith', 'WSMITH', '011.44.1343.629268', datetime.date(1999, 2, 23), 'SA_REP', Decimal('7400.00'), Decimal('0.15'), 148, 80)\n",
      "(172, 'Elizabeth', 'Bates', 'EBATES', '011.44.1343.529268', datetime.date(1999, 3, 24), 'SA_REP', Decimal('7300.00'), Decimal('0.15'), 148, 80)\n",
      "(173, 'Sundita', 'Kumar', 'SKUMAR', '011.44.1343.329268', datetime.date(2000, 4, 21), 'SA_REP', Decimal('6100.00'), Decimal('0.10'), 148, 80)\n",
      "(174, 'Ellen', 'Abel', 'EABEL', '011.44.1644.429267', datetime.date(1996, 5, 11), 'SA_REP', Decimal('11000.00'), Decimal('0.30'), 149, 80)\n",
      "(175, 'Alyssa', 'Hutton', 'AHUTTON', '011.44.1644.429266', datetime.date(1997, 3, 19), 'SA_REP', Decimal('8800.00'), Decimal('0.25'), 149, 80)\n",
      "(176, 'Jonathon', 'Taylor', 'JTAYLOR', '011.44.1644.429265', datetime.date(1998, 3, 24), 'SA_REP', Decimal('8600.00'), Decimal('0.20'), 149, 80)\n",
      "(177, 'Jack', 'Livingston', 'JLIVINGS', '011.44.1644.429264', datetime.date(1998, 4, 23), 'SA_REP', Decimal('8400.00'), Decimal('0.20'), 149, 80)\n",
      "(178, 'Kimberely', 'Grant', 'KGRANT', '011.44.1644.429263', datetime.date(1999, 5, 24), 'SA_REP', Decimal('7000.00'), Decimal('0.15'), 149, None)\n",
      "(179, 'Charles', 'Johnson', 'CJOHNSON', '011.44.1644.429262', datetime.date(2000, 1, 4), 'SA_REP', Decimal('6200.00'), Decimal('0.10'), 149, 80)\n"
     ]
    }
   ],
   "source": [
    "not_query = \"SELECT * FROM employees WHERE commission_pct IS NOT NULL\"\n",
    "cursorObject.execute(not_query)\n",
    " \n",
    "output = cursorObject.fetchall()\n",
    "   \n",
    "for x in output:\n",
    "    print(x)"
   ]
  },
  {
   "cell_type": "markdown",
   "id": "1498b200",
   "metadata": {
    "id": "1498b200"
   },
   "source": [
    "### <font color='blue'>4.3 Aggregate Functions</font>\n",
    "### <font color='blue'>4.3.1 Avg</font>"
   ]
  },
  {
   "cell_type": "code",
   "execution_count": 24,
   "id": "3c993582",
   "metadata": {
    "id": "3c993582",
    "outputId": "6e9ec263-e00c-4ca5-9843-27602d9343f0"
   },
   "outputs": [
    {
     "name": "stdout",
     "output_type": "stream",
     "text": [
      "(Decimal('6461.682243'),)\n"
     ]
    }
   ],
   "source": [
    "avg_query = \"SELECT avg(salary) from employees\"\n",
    "cursorObject.execute(avg_query)\n",
    " \n",
    "output = cursorObject.fetchall()\n",
    "   \n",
    "for x in output:\n",
    "    print(x)"
   ]
  },
  {
   "cell_type": "markdown",
   "id": "af241ec0",
   "metadata": {
    "id": "af241ec0"
   },
   "source": [
    "### <font color='blue'>4.3.2 Count</font>"
   ]
  },
  {
   "cell_type": "code",
   "execution_count": 25,
   "id": "5d2b7053",
   "metadata": {
    "id": "5d2b7053",
    "outputId": "b93200ec-fbe8-428c-9bd8-ad1413f08274"
   },
   "outputs": [
    {
     "name": "stdout",
     "output_type": "stream",
     "text": [
      "(107,)\n"
     ]
    }
   ],
   "source": [
    "count_query = \"SELECT count(employee_id) from employees\"\n",
    "cursorObject.execute(count_query)\n",
    " \n",
    "output = cursorObject.fetchall()\n",
    "   \n",
    "for x in output:\n",
    "    print(x)"
   ]
  },
  {
   "cell_type": "markdown",
   "id": "79103390",
   "metadata": {
    "id": "79103390"
   },
   "source": [
    "### <font color='blue'>4.3.3 Max</font>"
   ]
  },
  {
   "cell_type": "code",
   "execution_count": 26,
   "id": "1de470f2",
   "metadata": {
    "id": "1de470f2",
    "outputId": "14186aff-d160-4bfe-8a8b-ef1034b1bd6b"
   },
   "outputs": [
    {
     "name": "stdout",
     "output_type": "stream",
     "text": [
      "(Decimal('24000.00'),)\n"
     ]
    }
   ],
   "source": [
    "max_query = \"SELECT max(salary) from employees\"\n",
    "cursorObject.execute(max_query)\n",
    " \n",
    "output = cursorObject.fetchall()\n",
    "   \n",
    "for x in output:\n",
    "    print(x)"
   ]
  },
  {
   "cell_type": "markdown",
   "id": "abc0fea4",
   "metadata": {
    "id": "abc0fea4"
   },
   "source": [
    "### <font color='blue'>4.4 Joins</font>\n",
    "### <font color='blue'>4.4.1 Left Join</font>\n",
    "In a left join, table on the left returns all the rows and the table on right returns rows when the common columns of both tables have same value. \n",
    "NULL value is returned for unmatching rows."
   ]
  },
  {
   "cell_type": "code",
   "execution_count": 27,
   "id": "0f9d6f88",
   "metadata": {
    "id": "0f9d6f88",
    "outputId": "d22420a4-70cb-463e-b59e-4a2e4236e4ee",
    "scrolled": true
   },
   "outputs": [
    {
     "name": "stdout",
     "output_type": "stream",
     "text": [
      "('AC_ACCOUNT', 'William', 'Gietz', 'Public Accountant')\n",
      "('AC_MGR', 'Shelley', 'Higgins', 'Accounting Manager')\n",
      "('AD_ASST', 'Jennifer', 'Whalen', 'Administration Assistant')\n",
      "('AD_PRES', 'Steven', 'King', 'President')\n",
      "('AD_VP', 'Neena', 'Kochhar', 'Administration Vice President')\n",
      "('AD_VP', 'Lex', 'De Haan', 'Administration Vice President')\n",
      "('FI_ACCOUNT', 'Daniel', 'Faviet', 'Accountant')\n",
      "('FI_ACCOUNT', 'John', 'Chen', 'Accountant')\n",
      "('FI_ACCOUNT', 'Ismael', 'Sciarra', 'Accountant')\n",
      "('FI_ACCOUNT', 'Jose Manuel', 'Urman', 'Accountant')\n",
      "('FI_ACCOUNT', 'Luis', 'Popp', 'Accountant')\n",
      "('FI_MGR', 'Nancy', 'Greenberg', 'Finance Manager')\n",
      "('HR_REP', 'Susan', 'Mavris', 'Human Resources Representative')\n",
      "('IT_PROG', 'Alexander', 'Hunold', 'Programmer')\n",
      "('IT_PROG', 'Bruce', 'Ernst', 'Programmer')\n",
      "('IT_PROG', 'David', 'Austin', 'Programmer')\n",
      "('IT_PROG', 'Valli', 'Pataballa', 'Programmer')\n",
      "('IT_PROG', 'Diana', 'Lorentz', 'Programmer')\n",
      "('MK_MAN', 'Michael', 'Hartstein', 'Marketing Manager')\n",
      "('MK_REP', 'Pat', 'Fay', 'Marketing Representative')\n",
      "('PR_REP', 'Hermann', 'Baer', 'Public Relations Representative')\n",
      "('PU_CLERK', 'Alexander', 'Khoo', 'Purchasing Clerk')\n",
      "('PU_CLERK', 'Shelli', 'Baida', 'Purchasing Clerk')\n",
      "('PU_CLERK', 'Sigal', 'Tobias', 'Purchasing Clerk')\n",
      "('PU_CLERK', 'Guy', 'Himuro', 'Purchasing Clerk')\n",
      "('PU_CLERK', 'Karen', 'Colmenares', 'Purchasing Clerk')\n",
      "('PU_MAN', 'Den', 'Raphaely', 'Purchasing Manager')\n",
      "('SA_MAN', 'John', 'Russell', 'Sales Manager')\n",
      "('SA_MAN', 'Karen', 'Partners', 'Sales Manager')\n",
      "('SA_MAN', 'Alberto', 'Errazuriz', 'Sales Manager')\n",
      "('SA_MAN', 'Gerald', 'Cambrault', 'Sales Manager')\n",
      "('SA_MAN', 'Eleni', 'Zlotkey', 'Sales Manager')\n",
      "('SA_REP', 'Peter', 'Tucker', 'Sales Representative')\n",
      "('SA_REP', 'David', 'Bernstein', 'Sales Representative')\n",
      "('SA_REP', 'Peter', 'Hall', 'Sales Representative')\n",
      "('SA_REP', 'Christopher', 'Olsen', 'Sales Representative')\n",
      "('SA_REP', 'Nanette', 'Cambrault', 'Sales Representative')\n",
      "('SA_REP', 'Oliver', 'Tuvault', 'Sales Representative')\n",
      "('SA_REP', 'Janette', 'King', 'Sales Representative')\n",
      "('SA_REP', 'Patrick', 'Sully', 'Sales Representative')\n",
      "('SA_REP', 'Allan', 'McEwen', 'Sales Representative')\n",
      "('SA_REP', 'Lindsey', 'Smith', 'Sales Representative')\n",
      "('SA_REP', 'Louise', 'Doran', 'Sales Representative')\n",
      "('SA_REP', 'Sarath', 'Sewall', 'Sales Representative')\n",
      "('SA_REP', 'Clara', 'Vishney', 'Sales Representative')\n",
      "('SA_REP', 'Danielle', 'Greene', 'Sales Representative')\n",
      "('SA_REP', 'Mattea', 'Marvins', 'Sales Representative')\n",
      "('SA_REP', 'David', 'Lee', 'Sales Representative')\n",
      "('SA_REP', 'Sundar', 'Ande', 'Sales Representative')\n",
      "('SA_REP', 'Amit', 'Banda', 'Sales Representative')\n",
      "('SA_REP', 'Lisa', 'Ozer', 'Sales Representative')\n",
      "('SA_REP', 'Harrison', 'Bloom', 'Sales Representative')\n",
      "('SA_REP', 'Tayler', 'Fox', 'Sales Representative')\n",
      "('SA_REP', 'William', 'Smith', 'Sales Representative')\n",
      "('SA_REP', 'Elizabeth', 'Bates', 'Sales Representative')\n",
      "('SA_REP', 'Sundita', 'Kumar', 'Sales Representative')\n",
      "('SA_REP', 'Ellen', 'Abel', 'Sales Representative')\n",
      "('SA_REP', 'Alyssa', 'Hutton', 'Sales Representative')\n",
      "('SA_REP', 'Jonathon', 'Taylor', 'Sales Representative')\n",
      "('SA_REP', 'Jack', 'Livingston', 'Sales Representative')\n",
      "('SA_REP', 'Kimberely', 'Grant', 'Sales Representative')\n",
      "('SA_REP', 'Charles', 'Johnson', 'Sales Representative')\n",
      "('SH_CLERK', 'Winston', 'Taylor', 'Shipping Clerk')\n",
      "('SH_CLERK', 'Jean', 'Fleaur', 'Shipping Clerk')\n",
      "('SH_CLERK', 'Martha', 'Sullivan', 'Shipping Clerk')\n",
      "('SH_CLERK', 'Girard', 'Geoni', 'Shipping Clerk')\n",
      "('SH_CLERK', 'Nandita', 'Sarchand', 'Shipping Clerk')\n",
      "('SH_CLERK', 'Alexis', 'Bull', 'Shipping Clerk')\n",
      "('SH_CLERK', 'Julia', 'Dellinger', 'Shipping Clerk')\n",
      "('SH_CLERK', 'Anthony', 'Cabrio', 'Shipping Clerk')\n",
      "('SH_CLERK', 'Kelly', 'Chung', 'Shipping Clerk')\n",
      "('SH_CLERK', 'Jennifer', 'Dilly', 'Shipping Clerk')\n",
      "('SH_CLERK', 'Timothy', 'Gates', 'Shipping Clerk')\n",
      "('SH_CLERK', 'Randall', 'Perkins', 'Shipping Clerk')\n",
      "('SH_CLERK', 'Sarah', 'Bell', 'Shipping Clerk')\n",
      "('SH_CLERK', 'Britney', 'Everett', 'Shipping Clerk')\n",
      "('SH_CLERK', 'Samuel', 'McCain', 'Shipping Clerk')\n",
      "('SH_CLERK', 'Vance', 'Jones', 'Shipping Clerk')\n",
      "('SH_CLERK', 'Alana', 'Walsh', 'Shipping Clerk')\n",
      "('SH_CLERK', 'Kevin', 'Feeney', 'Shipping Clerk')\n",
      "('SH_CLERK', 'Donald', 'OConnell', 'Shipping Clerk')\n",
      "('SH_CLERK', 'Douglas', 'Grant', 'Shipping Clerk')\n",
      "('ST_CLERK', 'Julia', 'Nayer', 'Stock Clerk')\n",
      "('ST_CLERK', 'Irene', 'Mikkilineni', 'Stock Clerk')\n",
      "('ST_CLERK', 'James', 'Landry', 'Stock Clerk')\n",
      "('ST_CLERK', 'Steven', 'Markle', 'Stock Clerk')\n",
      "('ST_CLERK', 'Laura', 'Bissot', 'Stock Clerk')\n",
      "('ST_CLERK', 'Mozhe', 'Atkinson', 'Stock Clerk')\n",
      "('ST_CLERK', 'James', 'Marlow', 'Stock Clerk')\n",
      "('ST_CLERK', 'TJ', 'Olson', 'Stock Clerk')\n",
      "('ST_CLERK', 'Jason', 'Mallin', 'Stock Clerk')\n",
      "('ST_CLERK', 'Michael', 'Rogers', 'Stock Clerk')\n",
      "('ST_CLERK', 'Ki', 'Gee', 'Stock Clerk')\n",
      "('ST_CLERK', 'Hazel', 'Philtanker', 'Stock Clerk')\n",
      "('ST_CLERK', 'Renske', 'Ladwig', 'Stock Clerk')\n",
      "('ST_CLERK', 'Stephen', 'Stiles', 'Stock Clerk')\n",
      "('ST_CLERK', 'John', 'Seo', 'Stock Clerk')\n",
      "('ST_CLERK', 'Joshua', 'Patel', 'Stock Clerk')\n",
      "('ST_CLERK', 'Trenna', 'Rajs', 'Stock Clerk')\n",
      "('ST_CLERK', 'Curtis', 'Davies', 'Stock Clerk')\n",
      "('ST_CLERK', 'Randall', 'Matos', 'Stock Clerk')\n",
      "('ST_CLERK', 'Peter', 'Vargas', 'Stock Clerk')\n",
      "('ST_MAN', 'Matthew', 'Weiss', 'Stock Manager')\n",
      "('ST_MAN', 'Adam', 'Fripp', 'Stock Manager')\n",
      "('ST_MAN', 'Payam', 'Kaufling', 'Stock Manager')\n",
      "('ST_MAN', 'Shanta', 'Vollman', 'Stock Manager')\n",
      "('ST_MAN', 'Kevin', 'Mourgos', 'Stock Manager')\n"
     ]
    }
   ],
   "source": [
    "left_join_query = \"\"\"SELECT j.job_id, e.first_name, e.last_name, j.job_title\n",
    "             FROM jobs as j \n",
    "             LEFT JOIN employees as e \n",
    "             ON e.job_id = j.job_id\"\"\"\n",
    "            \n",
    "cursorObject.execute(left_join_query)\n",
    " \n",
    "output = cursorObject.fetchall()\n",
    "   \n",
    "for x in output:\n",
    "    print(x)"
   ]
  },
  {
   "cell_type": "markdown",
   "id": "d9e91eb6",
   "metadata": {
    "id": "d9e91eb6"
   },
   "source": [
    "### <font color='blue'>4.4.2 Right Join</font>\n",
    "In a right join, table on the right returns all the rows and the table on left returns rows when the common columns of both tables have same value. \n",
    "NULL is returned for unmatching rows"
   ]
  },
  {
   "cell_type": "code",
   "execution_count": 28,
   "id": "6d2f64ed",
   "metadata": {
    "id": "6d2f64ed",
    "outputId": "e0782eeb-ff50-4e88-bd75-258386d995a2",
    "scrolled": true
   },
   "outputs": [
    {
     "name": "stdout",
     "output_type": "stream",
     "text": [
      "('AC_ACCOUNT', 'William', 'Gietz', 'Public Accountant')\n",
      "('AC_MGR', 'Shelley', 'Higgins', 'Accounting Manager')\n",
      "('AD_ASST', 'Jennifer', 'Whalen', 'Administration Assistant')\n",
      "('AD_PRES', 'Steven', 'King', 'President')\n",
      "('AD_VP', 'Neena', 'Kochhar', 'Administration Vice President')\n",
      "('AD_VP', 'Lex', 'De Haan', 'Administration Vice President')\n",
      "('FI_ACCOUNT', 'Daniel', 'Faviet', 'Accountant')\n",
      "('FI_ACCOUNT', 'John', 'Chen', 'Accountant')\n",
      "('FI_ACCOUNT', 'Ismael', 'Sciarra', 'Accountant')\n",
      "('FI_ACCOUNT', 'Jose Manuel', 'Urman', 'Accountant')\n",
      "('FI_ACCOUNT', 'Luis', 'Popp', 'Accountant')\n",
      "('FI_MGR', 'Nancy', 'Greenberg', 'Finance Manager')\n",
      "('HR_REP', 'Susan', 'Mavris', 'Human Resources Representative')\n",
      "('IT_PROG', 'Alexander', 'Hunold', 'Programmer')\n",
      "('IT_PROG', 'Bruce', 'Ernst', 'Programmer')\n",
      "('IT_PROG', 'David', 'Austin', 'Programmer')\n",
      "('IT_PROG', 'Valli', 'Pataballa', 'Programmer')\n",
      "('IT_PROG', 'Diana', 'Lorentz', 'Programmer')\n",
      "('MK_MAN', 'Michael', 'Hartstein', 'Marketing Manager')\n",
      "('MK_REP', 'Pat', 'Fay', 'Marketing Representative')\n",
      "('PR_REP', 'Hermann', 'Baer', 'Public Relations Representative')\n",
      "('PU_CLERK', 'Alexander', 'Khoo', 'Purchasing Clerk')\n",
      "('PU_CLERK', 'Shelli', 'Baida', 'Purchasing Clerk')\n",
      "('PU_CLERK', 'Sigal', 'Tobias', 'Purchasing Clerk')\n",
      "('PU_CLERK', 'Guy', 'Himuro', 'Purchasing Clerk')\n",
      "('PU_CLERK', 'Karen', 'Colmenares', 'Purchasing Clerk')\n",
      "('PU_MAN', 'Den', 'Raphaely', 'Purchasing Manager')\n",
      "('SA_MAN', 'John', 'Russell', 'Sales Manager')\n",
      "('SA_MAN', 'Karen', 'Partners', 'Sales Manager')\n",
      "('SA_MAN', 'Alberto', 'Errazuriz', 'Sales Manager')\n",
      "('SA_MAN', 'Gerald', 'Cambrault', 'Sales Manager')\n",
      "('SA_MAN', 'Eleni', 'Zlotkey', 'Sales Manager')\n",
      "('SA_REP', 'Peter', 'Tucker', 'Sales Representative')\n",
      "('SA_REP', 'David', 'Bernstein', 'Sales Representative')\n",
      "('SA_REP', 'Peter', 'Hall', 'Sales Representative')\n",
      "('SA_REP', 'Christopher', 'Olsen', 'Sales Representative')\n",
      "('SA_REP', 'Nanette', 'Cambrault', 'Sales Representative')\n",
      "('SA_REP', 'Oliver', 'Tuvault', 'Sales Representative')\n",
      "('SA_REP', 'Janette', 'King', 'Sales Representative')\n",
      "('SA_REP', 'Patrick', 'Sully', 'Sales Representative')\n",
      "('SA_REP', 'Allan', 'McEwen', 'Sales Representative')\n",
      "('SA_REP', 'Lindsey', 'Smith', 'Sales Representative')\n",
      "('SA_REP', 'Louise', 'Doran', 'Sales Representative')\n",
      "('SA_REP', 'Sarath', 'Sewall', 'Sales Representative')\n",
      "('SA_REP', 'Clara', 'Vishney', 'Sales Representative')\n",
      "('SA_REP', 'Danielle', 'Greene', 'Sales Representative')\n",
      "('SA_REP', 'Mattea', 'Marvins', 'Sales Representative')\n",
      "('SA_REP', 'David', 'Lee', 'Sales Representative')\n",
      "('SA_REP', 'Sundar', 'Ande', 'Sales Representative')\n",
      "('SA_REP', 'Amit', 'Banda', 'Sales Representative')\n",
      "('SA_REP', 'Lisa', 'Ozer', 'Sales Representative')\n",
      "('SA_REP', 'Harrison', 'Bloom', 'Sales Representative')\n",
      "('SA_REP', 'Tayler', 'Fox', 'Sales Representative')\n",
      "('SA_REP', 'William', 'Smith', 'Sales Representative')\n",
      "('SA_REP', 'Elizabeth', 'Bates', 'Sales Representative')\n",
      "('SA_REP', 'Sundita', 'Kumar', 'Sales Representative')\n",
      "('SA_REP', 'Ellen', 'Abel', 'Sales Representative')\n",
      "('SA_REP', 'Alyssa', 'Hutton', 'Sales Representative')\n",
      "('SA_REP', 'Jonathon', 'Taylor', 'Sales Representative')\n",
      "('SA_REP', 'Jack', 'Livingston', 'Sales Representative')\n",
      "('SA_REP', 'Kimberely', 'Grant', 'Sales Representative')\n",
      "('SA_REP', 'Charles', 'Johnson', 'Sales Representative')\n",
      "('SH_CLERK', 'Winston', 'Taylor', 'Shipping Clerk')\n",
      "('SH_CLERK', 'Jean', 'Fleaur', 'Shipping Clerk')\n",
      "('SH_CLERK', 'Martha', 'Sullivan', 'Shipping Clerk')\n",
      "('SH_CLERK', 'Girard', 'Geoni', 'Shipping Clerk')\n",
      "('SH_CLERK', 'Nandita', 'Sarchand', 'Shipping Clerk')\n",
      "('SH_CLERK', 'Alexis', 'Bull', 'Shipping Clerk')\n",
      "('SH_CLERK', 'Julia', 'Dellinger', 'Shipping Clerk')\n",
      "('SH_CLERK', 'Anthony', 'Cabrio', 'Shipping Clerk')\n",
      "('SH_CLERK', 'Kelly', 'Chung', 'Shipping Clerk')\n",
      "('SH_CLERK', 'Jennifer', 'Dilly', 'Shipping Clerk')\n",
      "('SH_CLERK', 'Timothy', 'Gates', 'Shipping Clerk')\n",
      "('SH_CLERK', 'Randall', 'Perkins', 'Shipping Clerk')\n",
      "('SH_CLERK', 'Sarah', 'Bell', 'Shipping Clerk')\n",
      "('SH_CLERK', 'Britney', 'Everett', 'Shipping Clerk')\n",
      "('SH_CLERK', 'Samuel', 'McCain', 'Shipping Clerk')\n",
      "('SH_CLERK', 'Vance', 'Jones', 'Shipping Clerk')\n",
      "('SH_CLERK', 'Alana', 'Walsh', 'Shipping Clerk')\n",
      "('SH_CLERK', 'Kevin', 'Feeney', 'Shipping Clerk')\n",
      "('SH_CLERK', 'Donald', 'OConnell', 'Shipping Clerk')\n",
      "('SH_CLERK', 'Douglas', 'Grant', 'Shipping Clerk')\n",
      "('ST_CLERK', 'Julia', 'Nayer', 'Stock Clerk')\n",
      "('ST_CLERK', 'Irene', 'Mikkilineni', 'Stock Clerk')\n",
      "('ST_CLERK', 'James', 'Landry', 'Stock Clerk')\n",
      "('ST_CLERK', 'Steven', 'Markle', 'Stock Clerk')\n",
      "('ST_CLERK', 'Laura', 'Bissot', 'Stock Clerk')\n",
      "('ST_CLERK', 'Mozhe', 'Atkinson', 'Stock Clerk')\n",
      "('ST_CLERK', 'James', 'Marlow', 'Stock Clerk')\n",
      "('ST_CLERK', 'TJ', 'Olson', 'Stock Clerk')\n",
      "('ST_CLERK', 'Jason', 'Mallin', 'Stock Clerk')\n",
      "('ST_CLERK', 'Michael', 'Rogers', 'Stock Clerk')\n",
      "('ST_CLERK', 'Ki', 'Gee', 'Stock Clerk')\n",
      "('ST_CLERK', 'Hazel', 'Philtanker', 'Stock Clerk')\n",
      "('ST_CLERK', 'Renske', 'Ladwig', 'Stock Clerk')\n",
      "('ST_CLERK', 'Stephen', 'Stiles', 'Stock Clerk')\n",
      "('ST_CLERK', 'John', 'Seo', 'Stock Clerk')\n",
      "('ST_CLERK', 'Joshua', 'Patel', 'Stock Clerk')\n",
      "('ST_CLERK', 'Trenna', 'Rajs', 'Stock Clerk')\n",
      "('ST_CLERK', 'Curtis', 'Davies', 'Stock Clerk')\n",
      "('ST_CLERK', 'Randall', 'Matos', 'Stock Clerk')\n",
      "('ST_CLERK', 'Peter', 'Vargas', 'Stock Clerk')\n",
      "('ST_MAN', 'Matthew', 'Weiss', 'Stock Manager')\n",
      "('ST_MAN', 'Adam', 'Fripp', 'Stock Manager')\n",
      "('ST_MAN', 'Payam', 'Kaufling', 'Stock Manager')\n",
      "('ST_MAN', 'Shanta', 'Vollman', 'Stock Manager')\n",
      "('ST_MAN', 'Kevin', 'Mourgos', 'Stock Manager')\n"
     ]
    }
   ],
   "source": [
    "right_join_query = \"\"\"SELECT j.job_id, e.first_name, e.last_name, j.job_title\n",
    "                     FROM employees as e RIGHT JOIN jobs as j\n",
    "                     USING(job_id)\"\"\"\n",
    "            \n",
    "cursorObject.execute(right_join_query)\n",
    " \n",
    "output = cursorObject.fetchall()\n",
    "   \n",
    "for x in output:\n",
    "    print(x)"
   ]
  },
  {
   "cell_type": "code",
   "execution_count": 29,
   "id": "771e60af",
   "metadata": {
    "id": "771e60af"
   },
   "outputs": [],
   "source": [
    "# closing the connection after performing database opertions on hr schema\n",
    "connection.close()"
   ]
  },
  {
   "cell_type": "markdown",
   "id": "b589bcf0",
   "metadata": {
    "id": "b589bcf0"
   },
   "source": [
    "----------------\n",
    "### Happy Learning:)\n",
    "----------------"
   ]
  }
 ],
 "metadata": {
  "colab": {
   "collapsed_sections": [],
   "name": "W1: Intro to database (Hands on).ipynb",
   "provenance": []
  },
  "kernelspec": {
   "display_name": "Python 3 (ipykernel)",
   "language": "python",
   "name": "python3"
  },
  "language_info": {
   "codemirror_mode": {
    "name": "ipython",
    "version": 3
   },
   "file_extension": ".py",
   "mimetype": "text/x-python",
   "name": "python",
   "nbconvert_exporter": "python",
   "pygments_lexer": "ipython3",
   "version": "3.9.13"
  }
 },
 "nbformat": 4,
 "nbformat_minor": 5
}
